{
 "cells": [
  {
   "cell_type": "markdown",
   "id": "fca1f1ee",
   "metadata": {},
   "source": [
    "# Wordle Data Project:"
   ]
  },
  {
   "cell_type": "markdown",
   "id": "236fb916",
   "metadata": {},
   "source": [
    "Overview: Wordle is a puzzle game run by The New York Times with a new solution every morning. I've enjoyed playing it with my entire family, including my grandparents who play it every morning together! On Twitter, people will post hints to the solution as well as their guesses. I found a dataset containing those tweets by Ben Hamner on Kaggle (https://www.kaggle.com/datasets/benhamner/wordle-tweets) and decided to look into what I could find!\n",
    "\n",
    "Rules: To \"solve\" the wordle for the day, you have 6 tries to guess a 5 letter word. The color of the letter determines if 1. The letter is not in the word = Grey, 2. In the word but not in the correct place = Yellow, or 3. In the word and the correct place = Green. \n",
    "\n",
    "Sample:"
   ]
  },
  {
   "cell_type": "code",
   "execution_count": 9,
   "id": "6b393da8",
   "metadata": {
    "tags": [
     "\"hide-input\""
    ]
   },
   "outputs": [
    {
     "data": {
      "text/html": [
       "<img src=\"https://epe.brightspotcdn.com/dims4/default/218d678/2147483647/strip/true/crop/1695x1150+13+0/resize/840x570!/format/webp/quality/90/?url=https%3A%2F%2Fepe-brightspot.s3.amazonaws.com%2F63%2F28%2Fde4bad4f405ea84452275b46b7df%2Fwordle-02022022.jpg\"/>"
      ],
      "text/plain": [
       "<IPython.core.display.Image object>"
      ]
     },
     "execution_count": 9,
     "metadata": {},
     "output_type": "execute_result"
    }
   ],
   "source": [
    "from IPython.display import Image\n",
    "Image(url = 'https://epe.brightspotcdn.com/dims4/default/218d678/2147483647/strip/true/crop/1695x1150+13+0/resize/840x570!/format/webp/quality/90/?url=https%3A%2F%2Fepe-brightspot.s3.amazonaws.com%2F63%2F28%2Fde4bad4f405ea84452275b46b7df%2Fwordle-02022022.jpg')"
   ]
  },
  {
   "cell_type": "markdown",
   "id": "280de4da",
   "metadata": {},
   "source": [
    "# Importing Packages"
   ]
  },
  {
   "cell_type": "code",
   "execution_count": 2,
   "id": "97306d4d",
   "metadata": {},
   "outputs": [],
   "source": [
    "import pandas as pd\n",
    "import numpy as np\n",
    "import matplotlib.pyplot as plt\n",
    "import seaborn as sns"
   ]
  },
  {
   "cell_type": "markdown",
   "id": "2730e9a5",
   "metadata": {},
   "source": [
    "# Loading, Cleaning, Transforming Data"
   ]
  },
  {
   "cell_type": "code",
   "execution_count": 3,
   "id": "84216486",
   "metadata": {},
   "outputs": [],
   "source": [
    "wordle = pd.read_csv('Wordle_tweets.csv')"
   ]
  },
  {
   "cell_type": "markdown",
   "id": "4e865875",
   "metadata": {},
   "source": [
    "Importing the data into a dataframe."
   ]
  },
  {
   "cell_type": "code",
   "execution_count": 5,
   "id": "05942de8",
   "metadata": {},
   "outputs": [
    {
     "data": {
      "text/html": [
       "<div>\n",
       "<style scoped>\n",
       "    .dataframe tbody tr th:only-of-type {\n",
       "        vertical-align: middle;\n",
       "    }\n",
       "\n",
       "    .dataframe tbody tr th {\n",
       "        vertical-align: top;\n",
       "    }\n",
       "\n",
       "    .dataframe thead th {\n",
       "        text-align: right;\n",
       "    }\n",
       "</style>\n",
       "<table border=\"1\" class=\"dataframe\">\n",
       "  <thead>\n",
       "    <tr style=\"text-align: right;\">\n",
       "      <th></th>\n",
       "      <th>wordle_id</th>\n",
       "      <th>tweet_id</th>\n",
       "      <th>tweet_date</th>\n",
       "      <th>tweet_username</th>\n",
       "      <th>tweet_text</th>\n",
       "    </tr>\n",
       "  </thead>\n",
       "  <tbody>\n",
       "    <tr>\n",
       "      <th>0</th>\n",
       "      <td>210</td>\n",
       "      <td>1482553374591660037</td>\n",
       "      <td>2022-01-16 03:20:43+00:00</td>\n",
       "      <td>bpszebes</td>\n",
       "      <td>Wordle 210 4/6\\n\\n⬛⬛🟨🟨⬛\\n🟩⬛⬛⬛⬛\\n🟩🟩🟨⬛⬛\\n🟩🟩🟩🟩🟩</td>\n",
       "    </tr>\n",
       "    <tr>\n",
       "      <th>1</th>\n",
       "      <td>210</td>\n",
       "      <td>1482553387937898499</td>\n",
       "      <td>2022-01-16 03:20:46+00:00</td>\n",
       "      <td>cruisecoup</td>\n",
       "      <td>Wordle 210 4/6\\n\\n⬜⬜⬜⬜⬜\\n🟩🟩🟨🟨⬜\\n🟩🟩⬜🟩🟨\\n🟩🟩🟩🟩🟩</td>\n",
       "    </tr>\n",
       "    <tr>\n",
       "      <th>2</th>\n",
       "      <td>210</td>\n",
       "      <td>1482553422276698113</td>\n",
       "      <td>2022-01-16 03:20:55+00:00</td>\n",
       "      <td>DestroVega</td>\n",
       "      <td>Wordle 210 4/6\\n\\n⬜⬜⬜🟨⬜\\n⬜🟩⬜🟨⬜\\n⬜🟩⬜🟨⬜\\n🟩🟩🟩🟩🟩</td>\n",
       "    </tr>\n",
       "    <tr>\n",
       "      <th>3</th>\n",
       "      <td>210</td>\n",
       "      <td>1482553436910628866</td>\n",
       "      <td>2022-01-16 03:20:58+00:00</td>\n",
       "      <td>brenmardash</td>\n",
       "      <td>Wordle 210 3/6\\n\\n⬜⬜🟨⬜⬜\\n🟨🟨⬜⬜⬜\\n🟩🟩🟩🟩🟩</td>\n",
       "    </tr>\n",
       "    <tr>\n",
       "      <th>4</th>\n",
       "      <td>210</td>\n",
       "      <td>1482553445726908420</td>\n",
       "      <td>2022-01-16 03:21:00+00:00</td>\n",
       "      <td>KatieHowse2</td>\n",
       "      <td>Wordle 210 3/6\\n\\n⬛⬛🟨⬛⬛\\n🟩🟩🟩⬛⬛\\n🟩🟩🟩🟩🟩</td>\n",
       "    </tr>\n",
       "    <tr>\n",
       "      <th>887311</th>\n",
       "      <td>427</td>\n",
       "      <td>1561156070969581568</td>\n",
       "      <td>2022-08-21 00:59:46+00:00</td>\n",
       "      <td>golauco</td>\n",
       "      <td>Wordle 427 6/6\\n\\n🟩⬛⬛⬛⬛\\n🟩⬛🟨⬛⬛\\n🟩🟨⬛🟨🟨\\n🟩🟨🟨🟨⬛\\n...</td>\n",
       "    </tr>\n",
       "    <tr>\n",
       "      <th>887312</th>\n",
       "      <td>427</td>\n",
       "      <td>1561156092884819969</td>\n",
       "      <td>2022-08-21 00:59:52+00:00</td>\n",
       "      <td>Camelia_Phoenix</td>\n",
       "      <td>Wordle 427 4/6\\n\\n⬛⬛🟨🟨⬛\\n⬛⬛⬛🟨🟨\\n🟨🟨🟨⬛⬛\\n🟩🟩🟩🟩🟩</td>\n",
       "    </tr>\n",
       "    <tr>\n",
       "      <th>887313</th>\n",
       "      <td>427</td>\n",
       "      <td>1561156150665658368</td>\n",
       "      <td>2022-08-21 01:00:05+00:00</td>\n",
       "      <td>joshua_hull</td>\n",
       "      <td>Wordle 427 5/6\\n\\n⬛🟨🟨🟨⬛\\n🟨⬛⬛🟨🟨\\n🟨⬛🟩🟨🟩\\n⬛🟩🟩🟩🟩\\n...</td>\n",
       "    </tr>\n",
       "    <tr>\n",
       "      <th>887314</th>\n",
       "      <td>427</td>\n",
       "      <td>1561156258094125056</td>\n",
       "      <td>2022-08-21 01:00:31+00:00</td>\n",
       "      <td>mzhangalang</td>\n",
       "      <td>Wordle 427 2/6\\n\\n⬛🟨🟨🟨🟨\\n🟩🟩🟩🟩🟩\\n\\nYay yay!</td>\n",
       "    </tr>\n",
       "    <tr>\n",
       "      <th>887315</th>\n",
       "      <td>427</td>\n",
       "      <td>1561156341736976384</td>\n",
       "      <td>2022-08-21 01:00:51+00:00</td>\n",
       "      <td>hederaLC</td>\n",
       "      <td>Wordle 427 3/6\\n\\n⬛⬛🟨⬛⬛\\n⬛🟨🟨🟨🟨\\n🟩🟩🟩🟩🟩</td>\n",
       "    </tr>\n",
       "  </tbody>\n",
       "</table>\n",
       "</div>"
      ],
      "text/plain": [
       "        wordle_id             tweet_id                 tweet_date  \\\n",
       "0             210  1482553374591660037  2022-01-16 03:20:43+00:00   \n",
       "1             210  1482553387937898499  2022-01-16 03:20:46+00:00   \n",
       "2             210  1482553422276698113  2022-01-16 03:20:55+00:00   \n",
       "3             210  1482553436910628866  2022-01-16 03:20:58+00:00   \n",
       "4             210  1482553445726908420  2022-01-16 03:21:00+00:00   \n",
       "887311        427  1561156070969581568  2022-08-21 00:59:46+00:00   \n",
       "887312        427  1561156092884819969  2022-08-21 00:59:52+00:00   \n",
       "887313        427  1561156150665658368  2022-08-21 01:00:05+00:00   \n",
       "887314        427  1561156258094125056  2022-08-21 01:00:31+00:00   \n",
       "887315        427  1561156341736976384  2022-08-21 01:00:51+00:00   \n",
       "\n",
       "         tweet_username                                         tweet_text  \n",
       "0              bpszebes       Wordle 210 4/6\\n\\n⬛⬛🟨🟨⬛\\n🟩⬛⬛⬛⬛\\n🟩🟩🟨⬛⬛\\n🟩🟩🟩🟩🟩  \n",
       "1            cruisecoup       Wordle 210 4/6\\n\\n⬜⬜⬜⬜⬜\\n🟩🟩🟨🟨⬜\\n🟩🟩⬜🟩🟨\\n🟩🟩🟩🟩🟩  \n",
       "2            DestroVega       Wordle 210 4/6\\n\\n⬜⬜⬜🟨⬜\\n⬜🟩⬜🟨⬜\\n⬜🟩⬜🟨⬜\\n🟩🟩🟩🟩🟩  \n",
       "3           brenmardash              Wordle 210 3/6\\n\\n⬜⬜🟨⬜⬜\\n🟨🟨⬜⬜⬜\\n🟩🟩🟩🟩🟩  \n",
       "4           KatieHowse2              Wordle 210 3/6\\n\\n⬛⬛🟨⬛⬛\\n🟩🟩🟩⬛⬛\\n🟩🟩🟩🟩🟩  \n",
       "887311          golauco  Wordle 427 6/6\\n\\n🟩⬛⬛⬛⬛\\n🟩⬛🟨⬛⬛\\n🟩🟨⬛🟨🟨\\n🟩🟨🟨🟨⬛\\n...  \n",
       "887312  Camelia_Phoenix       Wordle 427 4/6\\n\\n⬛⬛🟨🟨⬛\\n⬛⬛⬛🟨🟨\\n🟨🟨🟨⬛⬛\\n🟩🟩🟩🟩🟩  \n",
       "887313      joshua_hull  Wordle 427 5/6\\n\\n⬛🟨🟨🟨⬛\\n🟨⬛⬛🟨🟨\\n🟨⬛🟩🟨🟩\\n⬛🟩🟩🟩🟩\\n...  \n",
       "887314      mzhangalang         Wordle 427 2/6\\n\\n⬛🟨🟨🟨🟨\\n🟩🟩🟩🟩🟩\\n\\nYay yay!  \n",
       "887315         hederaLC              Wordle 427 3/6\\n\\n⬛⬛🟨⬛⬛\\n⬛🟨🟨🟨🟨\\n🟩🟩🟩🟩🟩  "
      ]
     },
     "execution_count": 5,
     "metadata": {},
     "output_type": "execute_result"
    }
   ],
   "source": [
    "wordle.head(5).append(wordle.tail(5))"
   ]
  },
  {
   "cell_type": "markdown",
   "id": "16e238f1",
   "metadata": {},
   "source": [
    "This dataframe has enough information to start working with it immediately, but I'd like to add some more dimensions so that I can dig deeper into the data."
   ]
  },
  {
   "cell_type": "code",
   "execution_count": 6,
   "id": "141117e5",
   "metadata": {},
   "outputs": [],
   "source": [
    "wordle['tweet_date_time'] = pd.to_datetime(wordle['tweet_date'])\n",
    "wordle = wordle.drop(['tweet_date'], axis=1)\n",
    "wordle['tweet_day'] = wordle['tweet_date_time'].dt.date\n",
    "wordle['tweet_day_of_week_name'] = wordle['tweet_date_time'].dt.day_name()\n",
    "wordle['tweet_day_of_week_num'] = wordle['tweet_date_time'].dt.day_of_week\n",
    "wordle['tweet_year'] = wordle['tweet_date_time'].dt.year"
   ]
  },
  {
   "cell_type": "markdown",
   "id": "49267855",
   "metadata": {},
   "source": [
    "Changing the \"tweet_date\" field to a date/time field allows me to parse out specific date information like \"tweet_day\", \"tweet_year\", etc. "
   ]
  },
  {
   "cell_type": "code",
   "execution_count": 8,
   "id": "cd9ddcc9",
   "metadata": {},
   "outputs": [],
   "source": [
    "wordle['guess_number'] = wordle['tweet_text'].str[11].astype('int')\n",
    "wordle['wordle_id'] = wordle['wordle_id'].astype('int')"
   ]
  },
  {
   "cell_type": "markdown",
   "id": "84f011c4",
   "metadata": {},
   "source": [
    "Adding some extra info like number of guesses the tweet says it took to guess the correct answer in \"guess_number\" as well as changing some data types to better reflect what the text says."
   ]
  },
  {
   "cell_type": "code",
   "execution_count": 7,
   "id": "3907f9d7",
   "metadata": {},
   "outputs": [
    {
     "data": {
      "text/html": [
       "<div>\n",
       "<style scoped>\n",
       "    .dataframe tbody tr th:only-of-type {\n",
       "        vertical-align: middle;\n",
       "    }\n",
       "\n",
       "    .dataframe tbody tr th {\n",
       "        vertical-align: top;\n",
       "    }\n",
       "\n",
       "    .dataframe thead th {\n",
       "        text-align: right;\n",
       "    }\n",
       "</style>\n",
       "<table border=\"1\" class=\"dataframe\">\n",
       "  <thead>\n",
       "    <tr style=\"text-align: right;\">\n",
       "      <th></th>\n",
       "      <th>wordle_id</th>\n",
       "      <th>tweet_id</th>\n",
       "      <th>tweet_username</th>\n",
       "      <th>tweet_text</th>\n",
       "      <th>tweet_date_time</th>\n",
       "      <th>tweet_day</th>\n",
       "      <th>tweet_day_of_week_name</th>\n",
       "      <th>tweet_day_of_week_num</th>\n",
       "      <th>tweet_year</th>\n",
       "    </tr>\n",
       "  </thead>\n",
       "  <tbody>\n",
       "    <tr>\n",
       "      <th>0</th>\n",
       "      <td>210</td>\n",
       "      <td>1482553374591660037</td>\n",
       "      <td>bpszebes</td>\n",
       "      <td>Wordle 210 4/6\\n\\n⬛⬛🟨🟨⬛\\n🟩⬛⬛⬛⬛\\n🟩🟩🟨⬛⬛\\n🟩🟩🟩🟩🟩</td>\n",
       "      <td>2022-01-16 03:20:43+00:00</td>\n",
       "      <td>2022-01-16</td>\n",
       "      <td>Sunday</td>\n",
       "      <td>6</td>\n",
       "      <td>2022</td>\n",
       "    </tr>\n",
       "    <tr>\n",
       "      <th>1</th>\n",
       "      <td>210</td>\n",
       "      <td>1482553387937898499</td>\n",
       "      <td>cruisecoup</td>\n",
       "      <td>Wordle 210 4/6\\n\\n⬜⬜⬜⬜⬜\\n🟩🟩🟨🟨⬜\\n🟩🟩⬜🟩🟨\\n🟩🟩🟩🟩🟩</td>\n",
       "      <td>2022-01-16 03:20:46+00:00</td>\n",
       "      <td>2022-01-16</td>\n",
       "      <td>Sunday</td>\n",
       "      <td>6</td>\n",
       "      <td>2022</td>\n",
       "    </tr>\n",
       "    <tr>\n",
       "      <th>2</th>\n",
       "      <td>210</td>\n",
       "      <td>1482553422276698113</td>\n",
       "      <td>DestroVega</td>\n",
       "      <td>Wordle 210 4/6\\n\\n⬜⬜⬜🟨⬜\\n⬜🟩⬜🟨⬜\\n⬜🟩⬜🟨⬜\\n🟩🟩🟩🟩🟩</td>\n",
       "      <td>2022-01-16 03:20:55+00:00</td>\n",
       "      <td>2022-01-16</td>\n",
       "      <td>Sunday</td>\n",
       "      <td>6</td>\n",
       "      <td>2022</td>\n",
       "    </tr>\n",
       "    <tr>\n",
       "      <th>3</th>\n",
       "      <td>210</td>\n",
       "      <td>1482553436910628866</td>\n",
       "      <td>brenmardash</td>\n",
       "      <td>Wordle 210 3/6\\n\\n⬜⬜🟨⬜⬜\\n🟨🟨⬜⬜⬜\\n🟩🟩🟩🟩🟩</td>\n",
       "      <td>2022-01-16 03:20:58+00:00</td>\n",
       "      <td>2022-01-16</td>\n",
       "      <td>Sunday</td>\n",
       "      <td>6</td>\n",
       "      <td>2022</td>\n",
       "    </tr>\n",
       "    <tr>\n",
       "      <th>4</th>\n",
       "      <td>210</td>\n",
       "      <td>1482553445726908420</td>\n",
       "      <td>KatieHowse2</td>\n",
       "      <td>Wordle 210 3/6\\n\\n⬛⬛🟨⬛⬛\\n🟩🟩🟩⬛⬛\\n🟩🟩🟩🟩🟩</td>\n",
       "      <td>2022-01-16 03:21:00+00:00</td>\n",
       "      <td>2022-01-16</td>\n",
       "      <td>Sunday</td>\n",
       "      <td>6</td>\n",
       "      <td>2022</td>\n",
       "    </tr>\n",
       "  </tbody>\n",
       "</table>\n",
       "</div>"
      ],
      "text/plain": [
       "   wordle_id             tweet_id tweet_username  \\\n",
       "0        210  1482553374591660037       bpszebes   \n",
       "1        210  1482553387937898499     cruisecoup   \n",
       "2        210  1482553422276698113     DestroVega   \n",
       "3        210  1482553436910628866    brenmardash   \n",
       "4        210  1482553445726908420    KatieHowse2   \n",
       "\n",
       "                                     tweet_text           tweet_date_time  \\\n",
       "0  Wordle 210 4/6\\n\\n⬛⬛🟨🟨⬛\\n🟩⬛⬛⬛⬛\\n🟩🟩🟨⬛⬛\\n🟩🟩🟩🟩🟩 2022-01-16 03:20:43+00:00   \n",
       "1  Wordle 210 4/6\\n\\n⬜⬜⬜⬜⬜\\n🟩🟩🟨🟨⬜\\n🟩🟩⬜🟩🟨\\n🟩🟩🟩🟩🟩 2022-01-16 03:20:46+00:00   \n",
       "2  Wordle 210 4/6\\n\\n⬜⬜⬜🟨⬜\\n⬜🟩⬜🟨⬜\\n⬜🟩⬜🟨⬜\\n🟩🟩🟩🟩🟩 2022-01-16 03:20:55+00:00   \n",
       "3         Wordle 210 3/6\\n\\n⬜⬜🟨⬜⬜\\n🟨🟨⬜⬜⬜\\n🟩🟩🟩🟩🟩 2022-01-16 03:20:58+00:00   \n",
       "4         Wordle 210 3/6\\n\\n⬛⬛🟨⬛⬛\\n🟩🟩🟩⬛⬛\\n🟩🟩🟩🟩🟩 2022-01-16 03:21:00+00:00   \n",
       "\n",
       "    tweet_day tweet_day_of_week_name  tweet_day_of_week_num  tweet_year  \n",
       "0  2022-01-16                 Sunday                      6        2022  \n",
       "1  2022-01-16                 Sunday                      6        2022  \n",
       "2  2022-01-16                 Sunday                      6        2022  \n",
       "3  2022-01-16                 Sunday                      6        2022  \n",
       "4  2022-01-16                 Sunday                      6        2022  "
      ]
     },
     "execution_count": 7,
     "metadata": {},
     "output_type": "execute_result"
    }
   ],
   "source": [
    "wordle.head(5)"
   ]
  },
  {
   "cell_type": "markdown",
   "id": "5902ea1a",
   "metadata": {},
   "source": [
    "Looking much better! Now time to create some graphs."
   ]
  },
  {
   "cell_type": "markdown",
   "id": "302169fd",
   "metadata": {},
   "source": [
    "# Data Analysis/Graphs"
   ]
  },
  {
   "cell_type": "markdown",
   "id": "f8914001",
   "metadata": {},
   "source": [
    "Let's take a look at how many guesses it takes to get the correct answer for the first couple wordles."
   ]
  },
  {
   "cell_type": "code",
   "execution_count": 10,
   "id": "25d100ed",
   "metadata": {},
   "outputs": [
    {
     "data": {
      "text/html": [
       "<style type=\"text/css\">\n",
       "#T_96998_row0_col0 {\n",
       "  background-color: #dfece4;\n",
       "  color: #000000;\n",
       "}\n",
       "#T_96998_row0_col1 {\n",
       "  background-color: #519e73;\n",
       "  color: #f1f1f1;\n",
       "}\n",
       "#T_96998_row0_col2, #T_96998_row1_col2, #T_96998_row2_col2, #T_96998_row3_col3, #T_96998_row4_col1, #T_96998_row5_col2, #T_96998_row6_col2, #T_96998_row7_col2, #T_96998_row8_col2, #T_96998_row9_col3, #T_96998_row10_col2 {\n",
       "  background-color: #2e8b57;\n",
       "  color: #f1f1f1;\n",
       "}\n",
       "#T_96998_row0_col3 {\n",
       "  background-color: #a7cdb7;\n",
       "  color: #000000;\n",
       "}\n",
       "#T_96998_row0_col4, #T_96998_row1_col0, #T_96998_row2_col4, #T_96998_row3_col0, #T_96998_row4_col4, #T_96998_row5_col4, #T_96998_row6_col4, #T_96998_row7_col0, #T_96998_row8_col0, #T_96998_row9_col0, #T_96998_row10_col0 {\n",
       "  background-color: #ebf3ed;\n",
       "  color: #000000;\n",
       "}\n",
       "#T_96998_row1_col1 {\n",
       "  background-color: #48996c;\n",
       "  color: #f1f1f1;\n",
       "}\n",
       "#T_96998_row1_col3, #T_96998_row5_col3 {\n",
       "  background-color: #96c4aa;\n",
       "  color: #000000;\n",
       "}\n",
       "#T_96998_row1_col4 {\n",
       "  background-color: #e7f1ea;\n",
       "  color: #000000;\n",
       "}\n",
       "#T_96998_row2_col0 {\n",
       "  background-color: #eaf2ed;\n",
       "  color: #000000;\n",
       "}\n",
       "#T_96998_row2_col1 {\n",
       "  background-color: #38905f;\n",
       "  color: #f1f1f1;\n",
       "}\n",
       "#T_96998_row2_col3 {\n",
       "  background-color: #a8ceb8;\n",
       "  color: #000000;\n",
       "}\n",
       "#T_96998_row3_col1 {\n",
       "  background-color: #aed1bd;\n",
       "  color: #000000;\n",
       "}\n",
       "#T_96998_row3_col2 {\n",
       "  background-color: #419666;\n",
       "  color: #f1f1f1;\n",
       "}\n",
       "#T_96998_row3_col4 {\n",
       "  background-color: #6dae89;\n",
       "  color: #f1f1f1;\n",
       "}\n",
       "#T_96998_row4_col0 {\n",
       "  background-color: #b3d4c1;\n",
       "  color: #000000;\n",
       "}\n",
       "#T_96998_row4_col2 {\n",
       "  background-color: #56a177;\n",
       "  color: #f1f1f1;\n",
       "}\n",
       "#T_96998_row4_col3 {\n",
       "  background-color: #b8d7c5;\n",
       "  color: #000000;\n",
       "}\n",
       "#T_96998_row5_col0, #T_96998_row6_col0 {\n",
       "  background-color: #e6f0e9;\n",
       "  color: #000000;\n",
       "}\n",
       "#T_96998_row5_col1 {\n",
       "  background-color: #4f9d72;\n",
       "  color: #f1f1f1;\n",
       "}\n",
       "#T_96998_row6_col1 {\n",
       "  background-color: #3c9362;\n",
       "  color: #f1f1f1;\n",
       "}\n",
       "#T_96998_row6_col3 {\n",
       "  background-color: #92c2a7;\n",
       "  color: #000000;\n",
       "}\n",
       "#T_96998_row7_col1 {\n",
       "  background-color: #8dbfa2;\n",
       "  color: #000000;\n",
       "}\n",
       "#T_96998_row7_col3 {\n",
       "  background-color: #54a075;\n",
       "  color: #f1f1f1;\n",
       "}\n",
       "#T_96998_row7_col4 {\n",
       "  background-color: #aacfba;\n",
       "  color: #000000;\n",
       "}\n",
       "#T_96998_row8_col1 {\n",
       "  background-color: #69ab86;\n",
       "  color: #f1f1f1;\n",
       "}\n",
       "#T_96998_row8_col3 {\n",
       "  background-color: #94c3a8;\n",
       "  color: #000000;\n",
       "}\n",
       "#T_96998_row8_col4 {\n",
       "  background-color: #e9f1eb;\n",
       "  color: #000000;\n",
       "}\n",
       "#T_96998_row9_col1 {\n",
       "  background-color: #b1d3bf;\n",
       "  color: #000000;\n",
       "}\n",
       "#T_96998_row9_col2 {\n",
       "  background-color: #439667;\n",
       "  color: #f1f1f1;\n",
       "}\n",
       "#T_96998_row9_col4 {\n",
       "  background-color: #84ba9b;\n",
       "  color: #000000;\n",
       "}\n",
       "#T_96998_row10_col1 {\n",
       "  background-color: #76b290;\n",
       "  color: #f1f1f1;\n",
       "}\n",
       "#T_96998_row10_col3 {\n",
       "  background-color: #77b391;\n",
       "  color: #f1f1f1;\n",
       "}\n",
       "#T_96998_row10_col4 {\n",
       "  background-color: #d4e6db;\n",
       "  color: #000000;\n",
       "}\n",
       "</style>\n",
       "<table id=\"T_96998_\">\n",
       "  <thead>\n",
       "    <tr>\n",
       "      <th class=\"index_name level0\" >guess_number</th>\n",
       "      <th class=\"col_heading level0 col0\" >2</th>\n",
       "      <th class=\"col_heading level0 col1\" >3</th>\n",
       "      <th class=\"col_heading level0 col2\" >4</th>\n",
       "      <th class=\"col_heading level0 col3\" >5</th>\n",
       "      <th class=\"col_heading level0 col4\" >6</th>\n",
       "    </tr>\n",
       "    <tr>\n",
       "      <th class=\"index_name level0\" >wordle_id</th>\n",
       "      <th class=\"blank col0\" >&nbsp;</th>\n",
       "      <th class=\"blank col1\" >&nbsp;</th>\n",
       "      <th class=\"blank col2\" >&nbsp;</th>\n",
       "      <th class=\"blank col3\" >&nbsp;</th>\n",
       "      <th class=\"blank col4\" >&nbsp;</th>\n",
       "    </tr>\n",
       "  </thead>\n",
       "  <tbody>\n",
       "    <tr>\n",
       "      <th id=\"T_96998_level0_row0\" class=\"row_heading level0 row0\" >210</th>\n",
       "      <td id=\"T_96998_row0_col0\" class=\"data row0 col0\" >222</td>\n",
       "      <td id=\"T_96998_row0_col1\" class=\"data row0 col1\" >897</td>\n",
       "      <td id=\"T_96998_row0_col2\" class=\"data row0 col2\" >1064</td>\n",
       "      <td id=\"T_96998_row0_col3\" class=\"data row0 col3\" >489</td>\n",
       "      <td id=\"T_96998_row0_col4\" class=\"data row0 col4\" >165</td>\n",
       "    </tr>\n",
       "    <tr>\n",
       "      <th id=\"T_96998_level0_row1\" class=\"row_heading level0 row1\" >211</th>\n",
       "      <td id=\"T_96998_row1_col0\" class=\"data row1 col0\" >196</td>\n",
       "      <td id=\"T_96998_row1_col1\" class=\"data row1 col1\" >903</td>\n",
       "      <td id=\"T_96998_row1_col2\" class=\"data row1 col2\" >1016</td>\n",
       "      <td id=\"T_96998_row1_col3\" class=\"data row1 col3\" >564</td>\n",
       "      <td id=\"T_96998_row1_col4\" class=\"data row1 col4\" >215</td>\n",
       "    </tr>\n",
       "    <tr>\n",
       "      <th id=\"T_96998_level0_row2\" class=\"row_heading level0 row2\" >212</th>\n",
       "      <td id=\"T_96998_row2_col0\" class=\"data row2 col0\" >191</td>\n",
       "      <td id=\"T_96998_row2_col1\" class=\"data row2 col1\" >787</td>\n",
       "      <td id=\"T_96998_row2_col2\" class=\"data row2 col2\" >820</td>\n",
       "      <td id=\"T_96998_row2_col3\" class=\"data row2 col3\" >413</td>\n",
       "      <td id=\"T_96998_row2_col4\" class=\"data row2 col4\" >188</td>\n",
       "    </tr>\n",
       "    <tr>\n",
       "      <th id=\"T_96998_level0_row3\" class=\"row_heading level0 row3\" >213</th>\n",
       "      <td id=\"T_96998_row3_col0\" class=\"data row3 col0\" >51</td>\n",
       "      <td id=\"T_96998_row3_col1\" class=\"data row3 col1\" >260</td>\n",
       "      <td id=\"T_96998_row3_col2\" class=\"data row3 col2\" >630</td>\n",
       "      <td id=\"T_96998_row3_col3\" class=\"data row3 col3\" >697</td>\n",
       "      <td id=\"T_96998_row3_col4\" class=\"data row3 col4\" >481</td>\n",
       "    </tr>\n",
       "    <tr>\n",
       "      <th id=\"T_96998_level0_row4\" class=\"row_heading level0 row4\" >214</th>\n",
       "      <td id=\"T_96998_row4_col0\" class=\"data row4 col0\" >383</td>\n",
       "      <td id=\"T_96998_row4_col1\" class=\"data row4 col1\" >1012</td>\n",
       "      <td id=\"T_96998_row4_col2\" class=\"data row4 col2\" >823</td>\n",
       "      <td id=\"T_96998_row4_col3\" class=\"data row4 col3\" >363</td>\n",
       "      <td id=\"T_96998_row4_col4\" class=\"data row4 col4\" >122</td>\n",
       "    </tr>\n",
       "    <tr>\n",
       "      <th id=\"T_96998_level0_row5\" class=\"row_heading level0 row5\" >215</th>\n",
       "      <td id=\"T_96998_row5_col0\" class=\"data row5 col0\" >246</td>\n",
       "      <td id=\"T_96998_row5_col1\" class=\"data row5 col1\" >877</td>\n",
       "      <td id=\"T_96998_row5_col2\" class=\"data row5 col2\" >1017</td>\n",
       "      <td id=\"T_96998_row5_col3\" class=\"data row5 col3\" >579</td>\n",
       "      <td id=\"T_96998_row5_col4\" class=\"data row5 col4\" >224</td>\n",
       "    </tr>\n",
       "    <tr>\n",
       "      <th id=\"T_96998_level0_row6\" class=\"row_heading level0 row6\" >216</th>\n",
       "      <td id=\"T_96998_row6_col0\" class=\"data row6 col0\" >461</td>\n",
       "      <td id=\"T_96998_row6_col1\" class=\"data row6 col1\" >1952</td>\n",
       "      <td id=\"T_96998_row6_col2\" class=\"data row6 col2\" >2078</td>\n",
       "      <td id=\"T_96998_row6_col3\" class=\"data row6 col3\" >1199</td>\n",
       "      <td id=\"T_96998_row6_col4\" class=\"data row6 col4\" >415</td>\n",
       "    </tr>\n",
       "    <tr>\n",
       "      <th id=\"T_96998_level0_row7\" class=\"row_heading level0 row7\" >217</th>\n",
       "      <td id=\"T_96998_row7_col0\" class=\"data row7 col0\" >102</td>\n",
       "      <td id=\"T_96998_row7_col1\" class=\"data row7 col1\" >566</td>\n",
       "      <td id=\"T_96998_row7_col2\" class=\"data row7 col2\" >1031</td>\n",
       "      <td id=\"T_96998_row7_col3\" class=\"data row7 col3\" >843</td>\n",
       "      <td id=\"T_96998_row7_col4\" class=\"data row7 col4\" >418</td>\n",
       "    </tr>\n",
       "    <tr>\n",
       "      <th id=\"T_96998_level0_row8\" class=\"row_heading level0 row8\" >218</th>\n",
       "      <td id=\"T_96998_row8_col0\" class=\"data row8 col0\" >170</td>\n",
       "      <td id=\"T_96998_row8_col1\" class=\"data row8 col1\" >1009</td>\n",
       "      <td id=\"T_96998_row8_col2\" class=\"data row8 col2\" >1384</td>\n",
       "      <td id=\"T_96998_row8_col3\" class=\"data row8 col3\" >730</td>\n",
       "      <td id=\"T_96998_row8_col4\" class=\"data row8 col4\" >187</td>\n",
       "    </tr>\n",
       "    <tr>\n",
       "      <th id=\"T_96998_level0_row9\" class=\"row_heading level0 row9\" >219</th>\n",
       "      <td id=\"T_96998_row9_col0\" class=\"data row9 col0\" >38</td>\n",
       "      <td id=\"T_96998_row9_col1\" class=\"data row9 col1\" >343</td>\n",
       "      <td id=\"T_96998_row9_col2\" class=\"data row9 col2\" >927</td>\n",
       "      <td id=\"T_96998_row9_col3\" class=\"data row9 col3\" >1039</td>\n",
       "      <td id=\"T_96998_row9_col4\" class=\"data row9 col4\" >583</td>\n",
       "    </tr>\n",
       "    <tr>\n",
       "      <th id=\"T_96998_level0_row10\" class=\"row_heading level0 row10\" >220</th>\n",
       "      <td id=\"T_96998_row10_col0\" class=\"data row10 col0\" >392</td>\n",
       "      <td id=\"T_96998_row10_col1\" class=\"data row10 col1\" >1629</td>\n",
       "      <td id=\"T_96998_row10_col2\" class=\"data row10 col2\" >2389</td>\n",
       "      <td id=\"T_96998_row10_col3\" class=\"data row10 col3\" >1609</td>\n",
       "      <td id=\"T_96998_row10_col4\" class=\"data row10 col4\" >637</td>\n",
       "    </tr>\n",
       "  </tbody>\n",
       "</table>\n"
      ],
      "text/plain": [
       "<pandas.io.formats.style.Styler at 0x1469d7a73a0>"
      ]
     },
     "execution_count": 10,
     "metadata": {},
     "output_type": "execute_result"
    }
   ],
   "source": [
    "wordle.groupby('wordle_id')['guess_number'].value_counts().unstack().head(11) \\\n",
    ".style.background_gradient(axis=1, cmap = sns.light_palette(\"seagreen\", as_cmap=True))"
   ]
  },
  {
   "cell_type": "markdown",
   "id": "628c563b",
   "metadata": {},
   "source": [
    "Interesting to see that the most common amount of guesses is 4 rather than 5+. It makes sense that 2 is the lowest number of guesses since the player is working off of the least amount of information compared to any other point. We can make a reasonable conclusion that when the highest number of guesses is 3, the wordle was easier than normal, nice versa with 5 guesses. Let's take a different look at this data."
   ]
  },
  {
   "cell_type": "code",
   "execution_count": 11,
   "id": "034561c1",
   "metadata": {
    "scrolled": true
   },
   "outputs": [
    {
     "data": {
      "image/png": "[encoded data removed]",
      "text/plain": [
       "<Figure size 720x360 with 1 Axes>"
      ]
     },
     "metadata": {
      "needs_background": "light"
     },
     "output_type": "display_data"
    }
   ],
   "source": [
    "num_guesses = wordle['guess_number'].value_counts().sort_index().plot(title = 'Number of Guesses', figsize = (10, 5), kind = 'bar')\n",
    "num_guesses.set_xlabel('Number of Attempts')\n",
    "num_guesses.set_ylabel('Count of Tweets')\n",
    "num_guesses.tick_params(axis = 'x', rotation = 0)"
   ]
  },
  {
   "cell_type": "markdown",
   "id": "ac413e55",
   "metadata": {},
   "source": [
    "If we take out the wordle_id and just look at the guess_number, we can see a bar chart that perfectly represents the data from above. How about based on the day of the week?"
   ]
  },
  {
   "cell_type": "code",
   "execution_count": 12,
   "id": "d2f7e19b",
   "metadata": {},
   "outputs": [
    {
     "data": {
      "image/png": "[encoded data removed]",
      "text/plain": [
       "<Figure size 720x360 with 1 Axes>"
      ]
     },
     "metadata": {
      "needs_background": "light"
     },
     "output_type": "display_data"
    }
   ],
   "source": [
    "day_of_week = wordle['tweet_day_of_week_num'].value_counts().sort_index().plot(title = 'Days of the Week', figsize = (10, 5), kind = 'bar')\n",
    "day_of_week.set_xlabel('Day of Week')\n",
    "day_of_week.set_ylabel('Count of Tweets')\n",
    "day_of_week.set_xticklabels(['Monday', 'Tuesday', 'Wednesday', 'Thursday', 'Friday', 'Saturday', 'Sunday'])\n",
    "day_of_week.tick_params(axis = 'x', rotation = 0)"
   ]
  },
  {
   "cell_type": "markdown",
   "id": "9883ad57",
   "metadata": {},
   "source": [
    "Looks like people love tweeting about wordle at the end of the work week! Although Friday has the top value of the graph, this does not necessarily mean that people play the most on Friday, only that they tweet the most on Friday. I would need to receive the proprietary game info from NYT to create that conclusion."
   ]
  },
  {
   "cell_type": "code",
   "execution_count": 13,
   "id": "5a2870b3",
   "metadata": {},
   "outputs": [
    {
     "data": {
      "text/plain": [
       "0         ⬛⬛🟨🟨⬛\n",
       "1         ⬜⬜⬜⬜⬜\n",
       "2         ⬜⬜⬜🟨⬜\n",
       "3         ⬜⬜🟨⬜⬜\n",
       "4         ⬛⬛🟨⬛⬛\n",
       "          ...  \n",
       "887311    🟩⬛⬛⬛⬛\n",
       "887312    ⬛⬛🟨🟨⬛\n",
       "887313    ⬛🟨🟨🟨⬛\n",
       "887314    ⬛🟨🟨🟨🟨\n",
       "887315    ⬛⬛🟨⬛⬛\n",
       "Name: tweet_text, Length: 887316, dtype: object"
      ]
     },
     "execution_count": 13,
     "metadata": {},
     "output_type": "execute_result"
    }
   ],
   "source": [
    "wordle['tweet_text'].str[16:21]"
   ]
  },
  {
   "cell_type": "markdown",
   "id": "e3b9232d",
   "metadata": {},
   "source": [
    "Looks like there is some inconsistency with how the squares look. This is something I didn't catch earlier, but have a quick fix for!"
   ]
  },
  {
   "cell_type": "code",
   "execution_count": 14,
   "id": "0b2afa8d",
   "metadata": {},
   "outputs": [],
   "source": [
    "wordle['tweet_text'] = wordle['tweet_text'].str.replace('⬛','⬜')"
   ]
  },
  {
   "cell_type": "markdown",
   "id": "c777968d",
   "metadata": {},
   "source": [
    "Let's run the line of code again."
   ]
  },
  {
   "cell_type": "code",
   "execution_count": 15,
   "id": "f3cc69f5",
   "metadata": {},
   "outputs": [
    {
     "data": {
      "text/plain": [
       "0         ⬜⬜🟨🟨⬜\n",
       "1         ⬜⬜⬜⬜⬜\n",
       "2         ⬜⬜⬜🟨⬜\n",
       "3         ⬜⬜🟨⬜⬜\n",
       "4         ⬜⬜🟨⬜⬜\n",
       "          ...  \n",
       "887311    🟩⬜⬜⬜⬜\n",
       "887312    ⬜⬜🟨🟨⬜\n",
       "887313    ⬜🟨🟨🟨⬜\n",
       "887314    ⬜🟨🟨🟨🟨\n",
       "887315    ⬜⬜🟨⬜⬜\n",
       "Name: tweet_text, Length: 887316, dtype: object"
      ]
     },
     "execution_count": 15,
     "metadata": {},
     "output_type": "execute_result"
    }
   ],
   "source": [
    "wordle['tweet_text'].str[16:21]"
   ]
  },
  {
   "cell_type": "markdown",
   "id": "aeb890ee",
   "metadata": {},
   "source": [
    "Much Better. Now let's see what % of people have at least 1 correct letter in the correct spot on the first guess."
   ]
  },
  {
   "cell_type": "code",
   "execution_count": 16,
   "id": "2dfef87c",
   "metadata": {
    "scrolled": false
   },
   "outputs": [
    {
     "data": {
      "image/png": "[encoded data removed]",
      "text/plain": [
       "<Figure size 1080x360 with 1 Axes>"
      ]
     },
     "metadata": {},
     "output_type": "display_data"
    }
   ],
   "source": [
    "first_guess = wordle['tweet_text'].str[16:21].str.contains('🟩')\n",
    "first_guess = first_guess.value_counts().plot(title = \"% Of Correct First Guesses\", figsize = (15, 5), kind = 'pie', \\\n",
    "autopct='%.0f%%').set_ylabel('Tweets Containing Green')"
   ]
  },
  {
   "cell_type": "markdown",
   "id": "7ae08f2f",
   "metadata": {},
   "source": [
    "Interesting! About 2/3rds of the first guess doesn't contain the correct letter in the correct place. This code does specify the exact location of the squares by using the index of the text, but luckily we don't have to worry about outside cases where this wouldn't be correct due to the data being normalized from the source. What about a correct letter in ANY place?"
   ]
  },
  {
   "cell_type": "code",
   "execution_count": 19,
   "id": "657be1ab",
   "metadata": {},
   "outputs": [
    {
     "data": {
      "image/png": "[encoded data removed]",
      "text/plain": [
       "<Figure size 1080x360 with 1 Axes>"
      ]
     },
     "metadata": {},
     "output_type": "display_data"
    }
   ],
   "source": [
    "first_guess_y = wordle['tweet_text'].str[16:21].str.contains('🟨')\n",
    "first_guess_y = first_guess_y.value_counts().plot(title = \"% Of Semi-Correct First Guesses\", figsize = (15, 5), kind = 'pie', \\\n",
    "autopct='%.0f%%', startangle = -190).set_ylabel('Tweets Containing Yellow')"
   ]
  },
  {
   "cell_type": "markdown",
   "id": "8da23758",
   "metadata": {},
   "source": [
    "The numbers have almost entirely flipped! This would make sense because it is easier to get a correct letter in ANY spot instead of in the correct spot!"
   ]
  },
  {
   "cell_type": "markdown",
   "id": "58fef09b",
   "metadata": {},
   "source": [
    "As the last piece of information I want to pull from this data, I'd like to see how many people are repeat tweeters instead of just tweeting once."
   ]
  },
  {
   "cell_type": "code",
   "execution_count": 18,
   "id": "dbd98800",
   "metadata": {},
   "outputs": [
    {
     "data": {
      "image/png": "[encoded data removed]",
      "text/plain": [
       "<Figure size 1440x720 with 1 Axes>"
      ]
     },
     "metadata": {
      "needs_background": "light"
     },
     "output_type": "display_data"
    }
   ],
   "source": [
    "number_of_tweets = wordle['tweet_username'].value_counts().hist(figsize = (20, 10), range = (0, 30), bins = 30)\n",
    "number_of_tweets.set_title('User Tweet Count')\n",
    "number_of_tweets.set_xlabel('# of Tweets by User')\n",
    "number_of_tweets.set_ylabel('# of Users')\n",
    "number_of_tweets.set_xlim(1)\n",
    "number_of_tweets.tick_params(axis = 'x', rotation = 0)"
   ]
  },
  {
   "cell_type": "markdown",
   "id": "65b7a324",
   "metadata": {},
   "source": [
    "I could just pull if the person has tweeted once, but I thought this visualization is much more interesting. The vast majority of people only tweet 1 time! There is a smaller group of people that tweet anywhere from 2-10 times, but after that, the return tweeters are few and far between. There are people that reach higher than the upper limit of this graph, but they are so small that they don't show up since our y-axis reaches so high."
   ]
  },
  {
   "cell_type": "markdown",
   "id": "4aee17db",
   "metadata": {},
   "source": [
    "# Parting Thoughts"
   ]
  },
  {
   "cell_type": "markdown",
   "id": "1e8cea64",
   "metadata": {},
   "source": [
    "I doubt this information will make me become a Wordle pro, but still was a great project to flex my skills using pandas/ matplotlib and answering some of my questions that I have had after playing for 3 months!"
   ]
  }
 ],
 "metadata": {
  "kernelspec": {
   "display_name": "Python 3 (ipykernel)",
   "language": "python",
   "name": "python3"
  },
  "language_info": {
   "codemirror_mode": {
    "name": "ipython",
    "version": 3
   },
   "file_extension": ".py",
   "mimetype": "text/x-python",
   "name": "python",
   "nbconvert_exporter": "python",
   "pygments_lexer": "ipython3",
   "version": "3.9.7"
  }
 },
 "nbformat": 4,
 "nbformat_minor": 5
}
